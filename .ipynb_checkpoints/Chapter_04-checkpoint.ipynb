{
 "cells": [
  {
   "cell_type": "code",
   "execution_count": null,
   "id": "bccf1219-7344-45de-b1a9-791c72b7a15b",
   "metadata": {},
   "outputs": [],
   "source": [
    "# Bk3_Ch4_01"
   ]
  },
  {
   "cell_type": "code",
   "execution_count": 7,
   "id": "b9136305-8f52-4a8e-9b45-0a5dff9cc5b7",
   "metadata": {},
   "outputs": [
    {
     "name": "stdout",
     "output_type": "stream",
     "text": [
      "A_union_B:  {1, 2, 3, 4, 5, 6}\n",
      "A_meet_B:  set()\n",
      "A_minus_B:  {1, 3, 5}\n",
      "A_union_C:  {1, 2, 3, 5}\n",
      "A_meet_C:  {1, 3}\n",
      "A_minus_C:  {5}\n",
      "C_minus_A:  {2}\n"
     ]
    }
   ],
   "source": [
    "# set A: odd\n",
    "A = set([1,3,5])\n",
    "\n",
    "# set B: even\n",
    "B = set([2,4,6])\n",
    "\n",
    "# set C: less than 4\n",
    "C = set([1,2,3])\n",
    "\n",
    "# A union B\n",
    "A_union_B = A.union(B) #A|B, A or B  \n",
    "print(\"A_union_B: \",A_union_B)\n",
    "\n",
    "# A intersects (meets) B\n",
    "A_meet_B = A.intersection(B) #A&B, A and B\n",
    "print(\"A_meet_B: \",A_meet_B)\n",
    "\n",
    "# A minus B\n",
    "A_minus_B = A.difference(B) # A - B, set difference\n",
    "print(\"A_minus_B: \",A_minus_B)\n",
    "\n",
    "# A union C\n",
    "A_union_C = A.union(C) #A|C, A or C\n",
    "print(\"A_union_C: \",A_union_C)\n",
    "\n",
    "# A intersects (meets) C\n",
    "A_meet_C = A.intersection(C) #A&C, A and C\n",
    "print(\"A_meet_C: \",A_meet_C)\n",
    "\n",
    "# A minus C\n",
    "A_minus_C = A.difference(C) # A - C, set difference\n",
    "print(\"A_minus_C: \",A_minus_C)\n",
    "\n",
    "# C minus A\n",
    "C_minus_A = C.difference(A) # C - A, set difference\n",
    "print(\"C_minus_A: \",C_minus_A)"
   ]
  },
  {
   "cell_type": "markdown",
   "id": "67ec2bef-13ea-4fb0-81ef-35b6422650f6",
   "metadata": {},
   "source": [
    "# Bk3_Ch4_02_A"
   ]
  },
  {
   "cell_type": "code",
   "execution_count": 9,
   "id": "885e3dda-cc83-4496-8b7c-2e6913ebed13",
   "metadata": {},
   "outputs": [
    {
     "name": "stdout",
     "output_type": "stream",
     "text": [
      "0\n"
     ]
    }
   ],
   "source": [
    "from sympy.abc import x,y # 一个函数库，此处用于引入变量\n",
    "\n",
    "expr_x = x**3 + 2*x**2 - x - 2 # 实现3元1次方程\n",
    "\n",
    "print(expr_x.subs(x,1)) # .subs(用于将x变量替换为1，然后再计算)"
   ]
  },
  {
   "cell_type": "markdown",
   "id": "d4150023-ef45-4167-96e7-254348797bca",
   "metadata": {},
   "source": [
    "# Bk_Ch4_02_B"
   ]
  },
  {
   "cell_type": "code",
   "execution_count": 12,
   "id": "fd851fb5-08be-4c9c-bfd6-88823ac34a08",
   "metadata": {},
   "outputs": [
    {
     "name": "stdout",
     "output_type": "stream",
     "text": [
      "cos(y)**3 + 2*cos(y)**2 - cos(y) - 2\n"
     ]
    }
   ],
   "source": [
    "from sympy import cos # 一个函数库，此处用于引入变量cos\n",
    "\n",
    "expr_cos_y = expr_x.subs(x,cos(y)) #同上\n",
    "\n",
    "print(expr_cos_y)"
   ]
  },
  {
   "cell_type": "markdown",
   "id": "5009ba3e-969c-42b3-a1c7-46142bd7362b",
   "metadata": {},
   "source": [
    "# Bk_Ch4_02_C"
   ]
  },
  {
   "cell_type": "code",
   "execution_count": 13,
   "id": "8d554498-d7d2-46cf-a2cd-88f574a57524",
   "metadata": {},
   "outputs": [
    {
     "name": "stdout",
     "output_type": "stream",
     "text": [
      "x + y\n",
      "x1 + x2\n"
     ]
    }
   ],
   "source": [
    "from sympy import symbols\n",
    "\n",
    "x,y = symbols('x,y')\n",
    "expr_1 = x + y\n",
    "print(expr_1)\n",
    "\n",
    "x1,x2 = symbols('x1,x2')\n",
    "expr_2 = x1 + x2\n",
    "print(expr_2)"
   ]
  }
 ],
 "metadata": {
  "kernelspec": {
   "display_name": "Python 3 (ipykernel)",
   "language": "python",
   "name": "python3"
  },
  "language_info": {
   "codemirror_mode": {
    "name": "ipython",
    "version": 3
   },
   "file_extension": ".py",
   "mimetype": "text/x-python",
   "name": "python",
   "nbconvert_exporter": "python",
   "pygments_lexer": "ipython3",
   "version": "3.10.9"
  }
 },
 "nbformat": 4,
 "nbformat_minor": 5
}
