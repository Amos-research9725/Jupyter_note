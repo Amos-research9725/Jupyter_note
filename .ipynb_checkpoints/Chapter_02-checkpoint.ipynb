{
 "cells": [
  {
   "cell_type": "markdown",
   "id": "e752406a-a776-4a4d-8cb2-6895dfd18e93",
   "metadata": {},
   "source": [
    "# Bk3_Ch3_01  \n",
    "绘制六个正多边形。\n"
   ]
  },
  {
   "cell_type": "code",
   "execution_count": null,
   "id": "f9533f39-b8d1-43f0-b87d-e2afed4c5fbb",
   "metadata": {},
   "outputs": [
    {
     "data": {
      "image/png": "[encoded data removed]",
      "text/plain": [
       "<Figure size 100x100 with 1 Axes>"
      ]
     },
     "metadata": {},
     "output_type": "display_data"
    },
    {
     "data": {
      "image/png": "[encoded data removed]",
      "text/plain": [
       "<Figure size 100x100 with 1 Axes>"
      ]
     },
     "metadata": {},
     "output_type": "display_data"
    },
    {
     "data": {
      "image/png": "[encoded data removed]",
      "text/plain": [
       "<Figure size 100x100 with 1 Axes>"
      ]
     },
     "metadata": {},
     "output_type": "display_data"
    },
    {
     "data": {
      "image/png": "[encoded data removed]",
      "text/plain": [
       "<Figure size 100x100 with 1 Axes>"
      ]
     },
     "metadata": {},
     "output_type": "display_data"
    },
    {
     "data": {
      "image/png": "[encoded data removed]",
      "text/plain": [
       "<Figure size 100x100 with 1 Axes>"
      ]
     },
     "metadata": {},
     "output_type": "display_data"
    },
    {
     "data": {
      "image/png": "[encoded data removed]",
      "text/plain": [
       "<Figure size 100x100 with 1 Axes>"
      ]
     },
     "metadata": {},
     "output_type": "display_data"
    }
   ],
   "source": [
    "import matplotlib.pyplot as plt\n",
    "from matplotlib.patches import RegularPolygon, Circle\n",
    "import numpy as np\n",
    "\n",
    "for num_vertices in [3,4,5,6,7,8]:\n",
    "    \n",
    "    fig, ax = plt.subplots(figsize=(1,1))  # fig, ax = plt.subplots(1,3,figsize=(15,7))，这样就会有1行3个15x7大小的子图。\n",
    "    ax.set_aspect('equal') # equal': same as aspect=1, i.e. same scaling for x and y.等比例缩放横纵轴\n",
    "    \n",
    "    hexagon_inner = RegularPolygon((0,0), numVertices=num_vertices, \n",
    "                                   radius=1, alpha=0.2, edgecolor='k')\n",
    "    ax.add_patch(hexagon_inner)\n",
    "    \n",
    "    plt.axis('off')\n",
    "    \n",
    "    plt.xlim(-1.5,1.5)\n",
    "    plt.ylim(-1.5,1.5)\n",
    "    plt.show()"
   ]
  }
 ],
 "metadata": {
  "kernelspec": {
   "display_name": "Python 3 (ipykernel)",
   "language": "python",
   "name": "python3"
  },
  "language_info": {
   "codemirror_mode": {
    "name": "ipython",
    "version": 3
   },
   "file_extension": ".py",
   "mimetype": "text/x-python",
   "name": "python",
   "nbconvert_exporter": "python",
   "pygments_lexer": "ipython3",
   "version": "3.10.9"
  }
 },
 "nbformat": 4,
 "nbformat_minor": 5
}
