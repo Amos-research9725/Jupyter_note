{
 "cells": [
  {
   "cell_type": "markdown",
   "id": "76fd6f7d-1b8e-4812-bdf8-9c9742d97520",
   "metadata": {},
   "source": [
    "# Bk3_Ch3_02"
   ]
  },
  {
   "cell_type": "code",
   "execution_count": null,
   "id": "17e17d39-d580-432d-ad86-9e705877886a",
   "metadata": {},
   "outputs": [],
   "source": [
    "import matplotlib.pyplot as plt\n",
    "from matplotlib.patches import RegularPolygon, Circle\n",
    "import numpy as np\n",
    "\n",
    "for num_vertices in [6,8,10,12,14,16]:\n",
    "    \n",
    "    fig, ax = plt.subplots()\n",
    "    ax.set_aspect('equal')\n",
    "    \n",
    "    hexagon_inner = RegularPolygon((0,0), numVertices=num_vertices, \n",
    "                                   radius=1, alpha=0.2, edgecolor='k')\n",
    "    ax.add_patch(hexagon_inner)\n",
    "    \n",
    "    hexagon_outer = RegularPolygon((0,0), numVertices=num_vertices, \n",
    "                                   radius=1/np.cos(np.pi/num_vertices), \n",
    "                                   alpha=0.2, edgecolor='k')\n",
    "    ax.add_patch(hexagon_outer)\n",
    "    \n",
    "    circle = Circle((0,0), radius=1, facecolor = 'none', edgecolor='k')\n",
    "    ax.add_patch(circle)\n",
    "    \n",
    "    plt.axis('off')\n",
    "    \n",
    "    plt.xlim(-1.5,1.5)\n",
    "    plt.ylim(-1.5,1.5)\n",
    "    plt.show()"
   ]
  }
 ],
 "metadata": {
  "kernelspec": {
   "display_name": "Python 3 (ipykernel)",
   "language": "python",
   "name": "python3"
  },
  "language_info": {
   "codemirror_mode": {
    "name": "ipython",
    "version": 3
   },
   "file_extension": ".py",
   "mimetype": "text/x-python",
   "name": "python",
   "nbconvert_exporter": "python",
   "pygments_lexer": "ipython3",
   "version": "3.10.9"
  }
 },
 "nbformat": 4,
 "nbformat_minor": 5
}
